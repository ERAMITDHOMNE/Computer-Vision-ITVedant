{
 "cells": [
  {
   "cell_type": "code",
   "execution_count": null,
   "id": "44123734",
   "metadata": {},
   "outputs": [],
   "source": [
    "import cv2\n",
    "\n",
    "cam = cv2.VideoCapture(0)\n",
    "while True:\n",
    "\t_, frame = cam.read()\n",
    "\tcv2.imshow('Camera Feed', frame)\n",
    "\tif cv2.waitKey(1) & 0xFF == ord('q'):\n",
    "\t\tbreak\n",
    "cam.release()\n"
   ]
  },
  {
   "cell_type": "code",
   "execution_count": 3,
   "id": "a15b977f",
   "metadata": {},
   "outputs": [],
   "source": [
    "# Python program to illustrate\n",
    "# arithmetic operation of\n",
    "# addition of two images\n",
    "\t\n",
    "# organizing imports\n",
    "import cv2\n",
    "import numpy as np\n",
    "#import pil # pyterrsact , terrasact , used to read text from image\n",
    "\t\n",
    "# path to input images are specified and\n",
    "# images are loaded with imread command\n",
    "image1 = cv2.imread(r'C:\\Users\\erami\\OneDrive\\Desktop\\OpenCV\\New folder\\1.png')\n",
    "image2 = cv2.imread(r'C:\\Users\\erami\\OneDrive\\Desktop\\OpenCV\\New folder\\2.png')\n",
    "\n",
    "# cv2.addWeighted is applied over the\n",
    "# image inputs with applied parameters\n",
    "weightedSum = cv2.addWeighted(image1, 0.5, image2, 0.4, 0) # 0.5 , 50% , 0.80 , 80%, 0.4 than 40%\n",
    "\n",
    "# the window showing output image\n",
    "# with the weighted sum\n",
    "cv2.imshow('Weighted Image', weightedSum)\n",
    "\n",
    "# De-allocate any associated memory usage\n",
    "if cv2.waitKey(10) & 0xff == 27:\n",
    "\tcv2.destroyAllWindows()\n"
   ]
  },
  {
   "cell_type": "code",
   "execution_count": null,
   "id": "30e624d7",
   "metadata": {},
   "outputs": [],
   "source": []
  }
 ],
 "metadata": {
  "kernelspec": {
   "display_name": "Python 3 (ipykernel)",
   "language": "python",
   "name": "python3"
  },
  "language_info": {
   "codemirror_mode": {
    "name": "ipython",
    "version": 3
   },
   "file_extension": ".py",
   "mimetype": "text/x-python",
   "name": "python",
   "nbconvert_exporter": "python",
   "pygments_lexer": "ipython3",
   "version": "3.9.13"
  }
 },
 "nbformat": 4,
 "nbformat_minor": 5
}
