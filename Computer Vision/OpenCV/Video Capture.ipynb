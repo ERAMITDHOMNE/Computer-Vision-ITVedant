{
 "cells": [
  {
   "cell_type": "code",
   "execution_count": null,
   "id": "20c2ea3a",
   "metadata": {},
   "outputs": [],
   "source": [
    "# import the opencv library\n",
    "import cv2\n",
    "\n",
    "\n",
    "# define a video capture object , it will make camera\n",
    "vid = cv2.VideoCapture(0) # 0 is parameter to tell that only 1 frame has to create and read video from camera , grayscale\n",
    "\n",
    "while(True): # this while loop will keep on capturing your video through inbuilt camera\n",
    "\t\n",
    "\t# Capture the video frame\n",
    "\t# by frame\n",
    "\tret, frame = vid.read() # you are reading video , video is collection of image that run continously to appear as video frame\n",
    "\n",
    "\t# Display the resulting frame\n",
    "\tcv2.imshow('frame', frame)\n",
    "\t\n",
    "\t# the 'q' button is set as the\n",
    "\t# quitting button you may use any\n",
    "\t# desired button of your choice\n",
    "\tif cv2.waitKey(1) & 0xFF == ord('q'):\n",
    "\t\tbreak\n",
    "\n",
    "# After the loop release the cap object\n",
    "vid.release()\n",
    "# Destroy all the windows\n",
    "#cv2.destroyAllWindows()\n"
   ]
  },
  {
   "cell_type": "code",
   "execution_count": null,
   "id": "ed0bce6f",
   "metadata": {},
   "outputs": [],
   "source": [
    "# Destroy all the windows\n",
    "cv2.destroyAllWindows()"
   ]
  },
  {
   "cell_type": "code",
   "execution_count": null,
   "id": "38d92633",
   "metadata": {},
   "outputs": [],
   "source": []
  },
  {
   "cell_type": "code",
   "execution_count": null,
   "id": "290216e9",
   "metadata": {},
   "outputs": [],
   "source": []
  }
 ],
 "metadata": {
  "kernelspec": {
   "display_name": "Python 3 (ipykernel)",
   "language": "python",
   "name": "python3"
  },
  "language_info": {
   "codemirror_mode": {
    "name": "ipython",
    "version": 3
   },
   "file_extension": ".py",
   "mimetype": "text/x-python",
   "name": "python",
   "nbconvert_exporter": "python",
   "pygments_lexer": "ipython3",
   "version": "3.9.13"
  }
 },
 "nbformat": 4,
 "nbformat_minor": 5
}
