{
 "cells": [
  {
   "cell_type": "code",
   "execution_count": null,
   "id": "224a90d6",
   "metadata": {},
   "outputs": [],
   "source": [
    "#importing libraries\n",
    "import cv2 # open CV library\n",
    "import numpy as np #numpy , image data we stored in the form array 2D/3D , pixel value\n",
    "\n",
    "# Create a VideoCapture object and read from input file\n",
    "cap = cv2.VideoCapture(r'C:\\Users\\erami\\Downloads\\What is Linear Equations.mp4')\n",
    "\n",
    "# Check if camera opened successfully\n",
    "if (cap.isOpened()== False):\n",
    "\tprint(\"Error opening video file\")\n",
    "\n",
    "# Read until video is completed\n",
    "while(cap.isOpened()):\n",
    "\t\n",
    "# Capture frame-by-frame\n",
    "\tret, frame = cap.read()\n",
    "\tif ret == True:\n",
    "\t# Display the resulting frame\n",
    "\t\tcv2.imshow('Frame', frame)\n",
    "\t\t\n",
    "\t# Press Q on keyboard to exit the popup and waitkey is used to wait unless the video complete.\n",
    "    # as video compleyte it will close pop uu\n",
    "\t\tif cv2.waitKey(25) & 0xFF == ord('q'): \n",
    "\t\t\tbreak\n",
    "\n",
    "# Break the loop\n",
    "\telse:\n",
    "\t\tbreak\n",
    "\n",
    "# When everything done, release\n",
    "# the video capture object\n",
    "cap.release()\n",
    "\n",
    "# Closes all the frames\n",
    "\n"
   ]
  },
  {
   "cell_type": "code",
   "execution_count": null,
   "id": "2474a659",
   "metadata": {},
   "outputs": [],
   "source": [
    "cv2.destroyAllWindows() # close all pop up window and frame"
   ]
  },
  {
   "cell_type": "code",
   "execution_count": null,
   "id": "50947ad4",
   "metadata": {},
   "outputs": [],
   "source": []
  }
 ],
 "metadata": {
  "kernelspec": {
   "display_name": "Python 3 (ipykernel)",
   "language": "python",
   "name": "python3"
  },
  "language_info": {
   "codemirror_mode": {
    "name": "ipython",
    "version": 3
   },
   "file_extension": ".py",
   "mimetype": "text/x-python",
   "name": "python",
   "nbconvert_exporter": "python",
   "pygments_lexer": "ipython3",
   "version": "3.9.13"
  }
 },
 "nbformat": 4,
 "nbformat_minor": 5
}
