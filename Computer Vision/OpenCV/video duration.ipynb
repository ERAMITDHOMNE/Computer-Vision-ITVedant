{
 "cells": [
  {
   "cell_type": "code",
   "execution_count": 3,
   "id": "2c18c779",
   "metadata": {},
   "outputs": [
    {
     "name": "stdout",
     "output_type": "stream",
     "text": [
      "duration in seconds: 372\n",
      "video time: 0:06:12\n"
     ]
    }
   ],
   "source": [
    "# import module\n",
    "import cv2 # open cv library\n",
    "import datetime # to capture minute and second\n",
    "\n",
    "# create video capture object\n",
    "data = cv2.VideoCapture(r'C:\\Users\\erami\\Downloads\\What is Linear Equations.mp4')\n",
    "\n",
    "# count the number of frames\n",
    "frames = data.get(cv2.CAP_PROP_FRAME_COUNT)\n",
    "fps = data.get(cv2.CAP_PROP_FPS)\n",
    "\n",
    "# calculate duration of the video\n",
    "seconds = round(frames / fps)\n",
    "video_time = datetime.timedelta(seconds=seconds)\n",
    "print(f\"duration in seconds: {seconds}\")\n",
    "print(f\"video time: {video_time}\")\n"
   ]
  },
  {
   "cell_type": "code",
   "execution_count": null,
   "id": "6c1da604",
   "metadata": {},
   "outputs": [],
   "source": []
  }
 ],
 "metadata": {
  "kernelspec": {
   "display_name": "Python 3 (ipykernel)",
   "language": "python",
   "name": "python3"
  },
  "language_info": {
   "codemirror_mode": {
    "name": "ipython",
    "version": 3
   },
   "file_extension": ".py",
   "mimetype": "text/x-python",
   "name": "python",
   "nbconvert_exporter": "python",
   "pygments_lexer": "ipython3",
   "version": "3.9.13"
  }
 },
 "nbformat": 4,
 "nbformat_minor": 5
}
