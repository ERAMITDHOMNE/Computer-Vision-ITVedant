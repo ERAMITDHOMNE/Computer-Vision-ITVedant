{
 "cells": [
  {
   "cell_type": "code",
   "execution_count": 1,
   "id": "eb72a567",
   "metadata": {},
   "outputs": [
    {
     "name": "stdout",
     "output_type": "stream",
     "text": [
      "Collecting opencv-python\n",
      "  Downloading opencv_python-4.8.0.74-cp37-abi3-win_amd64.whl (38.1 MB)\n",
      "     ---------------------------------------- 38.1/38.1 MB 8.7 MB/s eta 0:00:00\n",
      "Requirement already satisfied: numpy>=1.17.0 in c:\\users\\erami\\anaconda3\\lib\\site-packages (from opencv-python) (1.21.5)\n",
      "Installing collected packages: opencv-python\n",
      "Successfully installed opencv-python-4.8.0.74\n"
     ]
    }
   ],
   "source": [
    "!pip install opencv-python"
   ]
  },
  {
   "cell_type": "code",
   "execution_count": null,
   "id": "72ea9e3c",
   "metadata": {},
   "outputs": [],
   "source": [
    "# Python open Cv upgrade in case open cv already installed"
   ]
  },
  {
   "cell_type": "code",
   "execution_count": 2,
   "id": "2673cb3d",
   "metadata": {},
   "outputs": [
    {
     "name": "stdout",
     "output_type": "stream",
     "text": [
      "Collecting opencv-contrib-python\n",
      "  Downloading opencv_contrib_python-4.8.0.74-cp37-abi3-win_amd64.whl (44.8 MB)\n",
      "     ---------------------------------------- 44.8/44.8 MB 9.2 MB/s eta 0:00:00\n",
      "Requirement already satisfied: numpy>=1.17.0 in c:\\users\\erami\\anaconda3\\lib\\site-packages (from opencv-contrib-python) (1.21.5)\n",
      "Installing collected packages: opencv-contrib-python\n",
      "Successfully installed opencv-contrib-python-4.8.0.74\n"
     ]
    }
   ],
   "source": [
    "!pip install opencv-contrib-python --upgrade"
   ]
  },
  {
   "cell_type": "code",
   "execution_count": null,
   "id": "5f441919",
   "metadata": {},
   "outputs": [],
   "source": [
    "# the virtualenv and virtualenvwrapper packages provide the facility to set virtual environment.\n",
    "#it is important to set virtual enviroment"
   ]
  },
  {
   "cell_type": "code",
   "execution_count": 3,
   "id": "fcfc902c",
   "metadata": {},
   "outputs": [
    {
     "name": "stdout",
     "output_type": "stream",
     "text": [
      "Collecting virtualenv\n",
      "  Downloading virtualenv-20.24.0-py3-none-any.whl (3.0 MB)\n",
      "     ---------------------------------------- 3.0/3.0 MB 9.4 MB/s eta 0:00:00\n",
      "Collecting and\n",
      "  Downloading and-66.0.2.tar.gz (1.0 kB)\n",
      "  Preparing metadata (setup.py): started\n",
      "  Preparing metadata (setup.py): finished with status 'done'\n",
      "Collecting virtualenvwrapper\n",
      "  Downloading virtualenvwrapper-4.8.4.tar.gz (334 kB)\n",
      "     ------------------------------------- 334.9/334.9 kB 21.6 MB/s eta 0:00:00\n",
      "  Preparing metadata (setup.py): started\n",
      "  Preparing metadata (setup.py): finished with status 'done'\n",
      "Collecting distlib<1,>=0.3.6\n",
      "  Downloading distlib-0.3.7-py2.py3-none-any.whl (468 kB)\n",
      "     ------------------------------------- 468.9/468.9 kB 14.3 MB/s eta 0:00:00\n",
      "Collecting platformdirs<4,>=3.5.1\n",
      "  Downloading platformdirs-3.9.1-py3-none-any.whl (16 kB)\n",
      "Collecting filelock<4,>=3.12\n",
      "  Downloading filelock-3.12.2-py3-none-any.whl (10 kB)\n",
      "Collecting virtualenv-clone\n",
      "  Downloading virtualenv_clone-0.5.7-py3-none-any.whl (6.6 kB)\n",
      "Collecting stevedore\n",
      "  Downloading stevedore-5.1.0-py3-none-any.whl (49 kB)\n",
      "     ---------------------------------------- 49.6/49.6 kB ? eta 0:00:00\n",
      "Collecting pbr!=2.1.0,>=2.0.0\n",
      "  Using cached pbr-5.11.1-py2.py3-none-any.whl (112 kB)\n",
      "Building wheels for collected packages: and, virtualenvwrapper\n",
      "  Building wheel for and (setup.py): started\n",
      "  Building wheel for and (setup.py): finished with status 'done'\n",
      "  Created wheel for and: filename=and-66.0.2-py3-none-any.whl size=1116 sha256=eaf3449096ad10d0778e558e85d035af5641243177cab911a7d52ca892f9db79\n",
      "  Stored in directory: c:\\users\\erami\\appdata\\local\\pip\\cache\\wheels\\9f\\5b\\1d\\5b4c3a6763301d420383ca689826197a1c411e24fa1bb2629e\n",
      "  Building wheel for virtualenvwrapper (setup.py): started\n",
      "  Building wheel for virtualenvwrapper (setup.py): finished with status 'done'\n",
      "  Created wheel for virtualenvwrapper: filename=virtualenvwrapper-4.8.4-py2.py3-none-any.whl size=24855 sha256=83508d07705123b1a11f92d0feb925e8959dd8aca6976ba750ab56968f35c8a0\n",
      "  Stored in directory: c:\\users\\erami\\appdata\\local\\pip\\cache\\wheels\\f1\\24\\6a\\c76ff32d8b0117352f69662d9a59f613047992de89d932de5f\n",
      "Successfully built and virtualenvwrapper\n",
      "Installing collected packages: distlib, and, virtualenv-clone, platformdirs, pbr, filelock, virtualenv, stevedore, virtualenvwrapper\n",
      "  Attempting uninstall: platformdirs\n",
      "    Found existing installation: platformdirs 2.5.2\n",
      "    Uninstalling platformdirs-2.5.2:\n",
      "      Successfully uninstalled platformdirs-2.5.2\n",
      "  Attempting uninstall: filelock\n",
      "    Found existing installation: filelock 3.6.0\n",
      "    Uninstalling filelock-3.6.0:\n",
      "      Successfully uninstalled filelock-3.6.0\n",
      "Successfully installed and-66.0.2 distlib-0.3.7 filelock-3.12.2 pbr-5.11.1 platformdirs-3.9.1 stevedore-5.1.0 virtualenv-20.24.0 virtualenv-clone-0.5.7 virtualenvwrapper-4.8.4\n"
     ]
    }
   ],
   "source": [
    "!pip3 install virtualenv and virtualenv virtualenvwrapper"
   ]
  },
  {
   "cell_type": "code",
   "execution_count": 1,
   "id": "397d904a",
   "metadata": {},
   "outputs": [],
   "source": [
    "import cv2  # import cv2 python code"
   ]
  },
  {
   "cell_type": "code",
   "execution_count": 2,
   "id": "d01d1657",
   "metadata": {},
   "outputs": [],
   "source": [
    "# using imread('path') , 1 is for rgb image , 0 is for grayscale image"
   ]
  },
  {
   "cell_type": "code",
   "execution_count": 8,
   "id": "ee8c09f1",
   "metadata": {},
   "outputs": [],
   "source": [
    "image = cv2.imread(r'C:\\Users\\erami\\OneDrive\\Desktop\\OpenCV\\photo.jpeg' , 1) \n",
    "# image variable is used to read image with imread function\n",
    "# of opencv library"
   ]
  },
  {
   "cell_type": "code",
   "execution_count": 11,
   "id": "8dc1be8c",
   "metadata": {},
   "outputs": [
    {
     "data": {
      "text/plain": [
       "-1"
      ]
     },
     "execution_count": 11,
     "metadata": {},
     "output_type": "execute_result"
    }
   ],
   "source": [
    "cv2.imshow('image_1',image)\n",
    "cv2.waitKey(5) # this is necessary to be required to use waitkey fucntion so to hold the image screen popup for the particular \n",
    "# pop up wont close immedietly"
   ]
  },
  {
   "cell_type": "code",
   "execution_count": 12,
   "id": "8d23ae44",
   "metadata": {},
   "outputs": [],
   "source": [
    "cv2.destroyAllWindows() # destroy the pop up that appear to see image"
   ]
  },
  {
   "cell_type": "code",
   "execution_count": null,
   "id": "346d22ea",
   "metadata": {},
   "outputs": [],
   "source": [
    "# Open CV function\n",
    "\n",
    "#1. imwrite() - this function is used to save an image to a specified path with specified name.\n",
    "#File extension is define image foprmat\n"
   ]
  },
  {
   "cell_type": "code",
   "execution_count": null,
   "id": "70c67e69",
   "metadata": {},
   "outputs": [],
   "source": [
    "# syntax \n",
    "# cv2.imwrite(filename,img, param)\n",
    "# file name = name of file\n",
    "# image  to be saved\n",
    "# params - 1/0 "
   ]
  },
  {
   "cell_type": "code",
   "execution_count": 18,
   "id": "9379b5b4",
   "metadata": {},
   "outputs": [
    {
     "ename": "error",
     "evalue": "OpenCV(4.8.0) :-1: error: (-5:Bad argument) in function 'imwrite'\n> Overload resolution failed:\n>  - Can't parse 3D array as 'params' vector argument\n>  - Can't parse 3D array as 'params' vector argument\n",
     "output_type": "error",
     "traceback": [
      "\u001b[1;31m---------------------------------------------------------------------------\u001b[0m",
      "\u001b[1;31merror\u001b[0m                                     Traceback (most recent call last)",
      "\u001b[1;32m~\\AppData\\Local\\Temp\\ipykernel_13808\\2724952800.py\u001b[0m in \u001b[0;36m<module>\u001b[1;34m\u001b[0m\n\u001b[0;32m      1\u001b[0m \u001b[1;32mimport\u001b[0m \u001b[0mcv2\u001b[0m\u001b[1;33m\u001b[0m\u001b[1;33m\u001b[0m\u001b[0m\n\u001b[0;32m      2\u001b[0m \u001b[0mimage1\u001b[0m \u001b[1;33m=\u001b[0m \u001b[0mcv2\u001b[0m\u001b[1;33m.\u001b[0m\u001b[0mimread\u001b[0m\u001b[1;33m(\u001b[0m\u001b[1;34mr'C:\\Users\\erami\\OneDrive\\Desktop\\OpenCV\\photo.jpeg'\u001b[0m \u001b[1;33m,\u001b[0m\u001b[1;36m1\u001b[0m\u001b[1;33m)\u001b[0m\u001b[1;33m\u001b[0m\u001b[1;33m\u001b[0m\u001b[0m\n\u001b[1;32m----> 3\u001b[1;33m \u001b[0mimage2\u001b[0m \u001b[1;33m=\u001b[0m \u001b[0mcv2\u001b[0m\u001b[1;33m.\u001b[0m\u001b[0mimwrite\u001b[0m\u001b[1;33m(\u001b[0m\u001b[1;34mr'C:\\Users\\erami\\OneDrive\\Desktop\\OpenCV\\A\\photo.jpeg'\u001b[0m \u001b[1;33m,\u001b[0m\u001b[1;36m1\u001b[0m\u001b[1;33m,\u001b[0m\u001b[0mimage1\u001b[0m\u001b[1;33m)\u001b[0m\u001b[1;33m\u001b[0m\u001b[1;33m\u001b[0m\u001b[0m\n\u001b[0m\u001b[0;32m      4\u001b[0m \u001b[0mprint\u001b[0m\u001b[1;33m(\u001b[0m\u001b[1;34m\"image is saved to designated path\"\u001b[0m\u001b[1;33m,\u001b[0m \u001b[0mimage2\u001b[0m\u001b[1;33m)\u001b[0m\u001b[1;33m\u001b[0m\u001b[1;33m\u001b[0m\u001b[0m\n",
      "\u001b[1;31merror\u001b[0m: OpenCV(4.8.0) :-1: error: (-5:Bad argument) in function 'imwrite'\n> Overload resolution failed:\n>  - Can't parse 3D array as 'params' vector argument\n>  - Can't parse 3D array as 'params' vector argument\n"
     ]
    }
   ],
   "source": [
    "import cv2\n",
    "image1 = cv2.imread(r'C:\\Users\\erami\\OneDrive\\Desktop\\OpenCV\\photo.jpeg' ,1)\n",
    "image2 = cv2.imwrite(r'C:\\Users\\erami\\OneDrive\\Desktop\\OpenCV\\A\\photo.jpeg' ,1,image1)\n",
    "print(\"image is saved to designated path\", image2)\n"
   ]
  },
  {
   "cell_type": "code",
   "execution_count": null,
   "id": "602d835f",
   "metadata": {},
   "outputs": [],
   "source": []
  }
 ],
 "metadata": {
  "kernelspec": {
   "display_name": "Python 3 (ipykernel)",
   "language": "python",
   "name": "python3"
  },
  "language_info": {
   "codemirror_mode": {
    "name": "ipython",
    "version": 3
   },
   "file_extension": ".py",
   "mimetype": "text/x-python",
   "name": "python",
   "nbconvert_exporter": "python",
   "pygments_lexer": "ipython3",
   "version": "3.9.13"
  }
 },
 "nbformat": 4,
 "nbformat_minor": 5
}
