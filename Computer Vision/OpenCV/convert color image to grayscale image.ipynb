{
 "cells": [
  {
   "cell_type": "code",
   "execution_count": null,
   "id": "074f5fa5",
   "metadata": {},
   "outputs": [],
   "source": [
    "# importing the module\n",
    "import cv2\n",
    "\n",
    "# reading the video\n",
    "source = cv2.VideoCapture(r'C:\\Users\\erami\\Downloads\\Tere Vaaste - Full Video - Zara Hatke Zara Bachke - Vicky, Sara, Varun J, Sachin-Jigar, Amitabh B.mp4')\n",
    "\n",
    "# running the loop\n",
    "while True:\n",
    "\n",
    "\t# extracting the frames . video is collection of frame/image\n",
    "\tret, img = source.read()\n",
    "\t\n",
    "\t# converting to gray-scale, calling cvtcolor function/method from opencv passing imge which is frame, another function\n",
    "    # color video/image RGB color image to grayscale with the method COLOR_BGR2GRAY\n",
    "\tgray = cv2.cvtColor(img, cv2.COLOR_BGR2GRAY)\n",
    "\n",
    "\t# displaying the video\n",
    "\tcv2.imshow(\"Live\", gray)\n",
    "\n",
    "\t# exiting the loop\n",
    "\tkey = cv2.waitKey(1)\n",
    "\tif key == ord(\"q\"):\n",
    "\t\tbreak\n",
    "\t\n",
    "# closing the window\n",
    "cv2.destroyAllWindows()\n",
    "source.release()\n"
   ]
  },
  {
   "cell_type": "code",
   "execution_count": null,
   "id": "76333100",
   "metadata": {},
   "outputs": [],
   "source": [
    "Convert this file in the PDF and share linked"
   ]
  }
 ],
 "metadata": {
  "kernelspec": {
   "display_name": "Python 3 (ipykernel)",
   "language": "python",
   "name": "python3"
  },
  "language_info": {
   "codemirror_mode": {
    "name": "ipython",
    "version": 3
   },
   "file_extension": ".py",
   "mimetype": "text/x-python",
   "name": "python",
   "nbconvert_exporter": "python",
   "pygments_lexer": "ipython3",
   "version": "3.9.13"
  }
 },
 "nbformat": 4,
 "nbformat_minor": 5
}
